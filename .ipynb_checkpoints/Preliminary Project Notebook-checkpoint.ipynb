{
 "cells": [
  {
   "cell_type": "markdown",
   "id": "ba0b5ab3",
   "metadata": {},
   "source": [
    "# Project Related Assignment 2 - Introduction\n",
    "\n",
    "\n",
    "\n",
    "**Data Description:**\n",
    "Tate is an arts/cultural institution that holds the UK’s national collection of British, international modern, and contemporary art. This particular dataset includes metadata about the collection of artworks the Tate holds. \n",
    "\n",
    "\n",
    "**Link to Data Source:**\n",
    "[Tate CSV File From the CORGIS Dataset Project](https://corgis-edu.github.io/corgis/csv/tate/)\n",
    "\n",
    "\n",
    "**Motivation for looking at the Data:**\n",
    "I have always been interested in our GLAM (Galleries, Libraries, Archives, Museums) institutions and how we can increase accessibility and representation. For this reason, I am specifically looking at the museum's acquisitions of international modern and contemporary art. When I started working at the J. Paul Getty Museum last summer and now at the Los Angeles County Museum of Art (LACMA), I had to learn about The Museum System (TMS) which is a museum management software used to track and catalog collections. Multiple modules exist on the platform: Object information, Constituents, Loans, Provenance research, Touring Schedules, Condition Reports, and much more (which was then exported to make this lovely data set). As a personal interest/goal, I aspire for an arts administration career and desire to learn more about increasing accessibility and advocacy within arts/culture-based institutions. I believe that I can accomplish this by also learning the ways in which coding/data analysis can be used to increase the transparency of operations and collections at GLAM institutions. \n",
    "\n",
    "\n",
    "**Questions that I’m seeking to address:**\n",
    "\n",
    "\n",
    "*Gender Diversity.* Are there any trends in acquisition, specifically in the accessions of women vs men? (looking also to maybe note under which museum Director the objects were acquired)\n",
    "\n",
    "*Collection Diversity.* Are there any trends or preferences that exist with the types of objects chosen to be a part of the collection? \n",
    "\n",
    "*Artist Diversity.* Are there any trends in the collection regarding the artist’s location of birth? \n",
    "\n",
    "*Acquisition History.* During which time periods were there more/less of a trend in acquiring artwork? "
   ]
  },
  {
   "cell_type": "markdown",
   "id": "4e92eaf3",
   "metadata": {},
   "source": [
    "# Summary Information of Data"
   ]
  },
  {
   "cell_type": "code",
   "execution_count": null,
   "id": "8deb16aa",
   "metadata": {},
   "outputs": [],
   "source": [
    "#Data Visualization 1"
   ]
  },
  {
   "cell_type": "code",
   "execution_count": null,
   "id": "90ad0b34",
   "metadata": {},
   "outputs": [],
   "source": [
    "#Data Visualization 2"
   ]
  },
  {
   "cell_type": "code",
   "execution_count": null,
   "id": "a428ac6c",
   "metadata": {},
   "outputs": [],
   "source": [
    "#Data Visualization 3"
   ]
  },
  {
   "cell_type": "code",
   "execution_count": null,
   "id": "bcbd242e",
   "metadata": {},
   "outputs": [],
   "source": [
    "#Data Visualization 4"
   ]
  },
  {
   "cell_type": "markdown",
   "id": "04f92cc3",
   "metadata": {},
   "source": [
    "# Beginnings of Tate data analysis"
   ]
  },
  {
   "cell_type": "markdown",
   "id": "f959ca2c",
   "metadata": {},
   "source": [
    "***Code for data analysis:***\n",
    "Python, Matplotlib\n",
    "\n",
    "***Data visualization #1 (Description):***\n",
    "**Gender Diversity.** I would like to make a pie chart to reveal how many women vs. men artists the Tate holds. \n",
    "\n",
    "\n",
    "***Data visualization #2 (Description):***\n",
    " **Collection Diversity.** I would like to use MATLAB’s bubble cloud plot to reveal any frequencies/preferences that exist with the types of objects chosen to be a part of the collection. \n",
    "\n",
    "\n",
    "***Data visualization #3 (Description):***\n",
    "**Artist Diversity.** I would like to create a geobubble plot using MATLAB to identify any trends in the collection regarding the artist’s location of birth.\n",
    "\n",
    "\n",
    "***Data visualization #4 (Description):***\n",
    "**Acquisition History.** I would like to create a time series plot to find during which time periods were there more/less of a trend in acquiring artwork?\n"
   ]
  },
  {
   "cell_type": "code",
   "execution_count": null,
   "id": "c7433c4a",
   "metadata": {},
   "outputs": [],
   "source": []
  }
 ],
 "metadata": {
  "kernelspec": {
   "display_name": "Python 3 (ipykernel)",
   "language": "python",
   "name": "python3"
  },
  "language_info": {
   "codemirror_mode": {
    "name": "ipython",
    "version": 3
   },
   "file_extension": ".py",
   "mimetype": "text/x-python",
   "name": "python",
   "nbconvert_exporter": "python",
   "pygments_lexer": "ipython3",
   "version": "3.10.8"
  }
 },
 "nbformat": 4,
 "nbformat_minor": 5
}
